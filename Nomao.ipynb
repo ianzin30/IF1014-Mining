{
  "cells": [
    {
      "cell_type": "markdown",
      "metadata": {
        "colab_type": "text",
        "id": "view-in-github"
      },
      "source": [
        "<a href=\"https://colab.research.google.com/github/ianzin30/IF1014-Mining/blob/main/Nomao.ipynb\" target=\"_parent\"><img src=\"https://colab.research.google.com/assets/colab-badge.svg\" alt=\"Open In Colab\"/></a>"
      ]
    },
    {
      "cell_type": "markdown",
      "metadata": {
        "id": "I2B_-aVElzqW"
      },
      "source": [
        "\n",
        "# CRISP_DM PHASE 1\n",
        "Entendimento"
      ]
    },
    {
      "cell_type": "markdown",
      "metadata": {
        "id": "tZ5s-T9el8It"
      },
      "source": [
        "https://docs.google.com/document/d/1__5aHtUM-75B60eRaHWH0kN8GaWUBLRkCMg_DDWnB0E/edit?usp=sharing\n"
      ]
    },
    {
      "cell_type": "markdown",
      "metadata": {
        "id": "o8FPj_cMlO_-"
      },
      "source": [
        "\n",
        "# CRISP_DM PHASE 2\n",
        "Compreensão"
      ]
    },
    {
      "cell_type": "markdown",
      "metadata": {
        "id": "Ut6G_WCzmQdt"
      },
      "source": [
        "## Inicializando dados\n"
      ]
    },
    {
      "cell_type": "code",
      "execution_count": null,
      "metadata": {
        "id": "V4aQXh9ovAZK"
      },
      "outputs": [],
      "source": [
        "# Executando os imports necessários para rodar o projeto\n",
        "\n",
        "import os\n",
        "import pandas as pd\n",
        "import numpy as np\n",
        "import matplotlib.pyplot as plt"
      ]
    },
    {
      "cell_type": "markdown",
      "metadata": {},
      "source": [
        "```python\n",
        "# Comentando essa parte pois estou no VS Code"
      ]
    },
    {
      "cell_type": "code",
      "execution_count": null,
      "metadata": {
        "colab": {
          "base_uri": "https://localhost:8080/"
        },
        "id": "JmOnFDqs024M",
        "outputId": "188ad9b6-3435-48c2-a8e5-7983057b6664"
      },
      "outputs": [],
      "source": [
        "#from google.colab import drive\n",
        "#drive.mount('/content/drive')"
      ]
    },
    {
      "cell_type": "code",
      "execution_count": null,
      "metadata": {
        "id": "f-MY0sqIlonO"
      },
      "outputs": [],
      "source": [
        "import os\n",
        "\n",
        "\n",
        "# Acquiring features from Nomao\n",
        "file_path_features = os.path.join(os.getcwd(), \"Nomao.features\")\n",
        "with open(file_path_features, 'r') as file:\n",
        "    content_features = file.read()\n",
        "\n",
        "# Acquiring data from Nomao\n",
        "file_path_data = os.path.join(os.getcwd(), \"Nomao.data\")\n",
        "with open(file_path_data, 'r') as file:\n",
        "    content_data = file.read()\n",
        "\n",
        "# Splitting features and data to create the DataFrame\n",
        "features = content_features.split('\\n')\n",
        "data = list(map(lambda x: x.split(','), content_data.split('\\n')))\n"
      ]
    },
    {
      "cell_type": "markdown",
      "metadata": {},
      "source": [
        "### Lendo o dataset \n",
        "\n",
        "```python\n",
        "# Vamos iniciar o Dataframe e printar rapidamente"
      ]
    },
    {
      "cell_type": "code",
      "execution_count": null,
      "metadata": {
        "colab": {
          "base_uri": "https://localhost:8080/",
          "height": 255
        },
        "id": "P76khpMEwDxE",
        "outputId": "48509904-b5fc-425a-b3e0-a6de0a3c08ae"
      },
      "outputs": [
        {
          "data": {
            "text/html": [
              "<div>\n",
              "<style scoped>\n",
              "    .dataframe tbody tr th:only-of-type {\n",
              "        vertical-align: middle;\n",
              "    }\n",
              "\n",
              "    .dataframe tbody tr th {\n",
              "        vertical-align: top;\n",
              "    }\n",
              "\n",
              "    .dataframe thead th {\n",
              "        text-align: right;\n",
              "    }\n",
              "</style>\n",
              "<table border=\"1\" class=\"dataframe\">\n",
              "  <thead>\n",
              "    <tr style=\"text-align: right;\">\n",
              "      <th></th>\n",
              "      <th>id</th>\n",
              "      <th>clean_name_intersect_min</th>\n",
              "      <th>clean_name_intersect_max</th>\n",
              "      <th>clean_name_levenshtein_sim</th>\n",
              "      <th>clean_name_trigram_sim</th>\n",
              "      <th>clean_name_levenshtein_term</th>\n",
              "      <th>clean_name_trigram_term</th>\n",
              "      <th>clean_name_including</th>\n",
              "      <th>clean_name_equality</th>\n",
              "      <th>city_intersect_min</th>\n",
              "      <th>...</th>\n",
              "      <th>coordinates_long_levenshtein</th>\n",
              "      <th>coordinates_long_trigram</th>\n",
              "      <th>coordinates_long_equality</th>\n",
              "      <th>coordinates_lat_diff</th>\n",
              "      <th>coordinates_lat_levenshtein</th>\n",
              "      <th>coordinates_lat_trigram</th>\n",
              "      <th>coordinates_lat_equality</th>\n",
              "      <th>geocode_coordinates_diff</th>\n",
              "      <th>coordinates_diff</th>\n",
              "      <th>label</th>\n",
              "    </tr>\n",
              "  </thead>\n",
              "  <tbody>\n",
              "    <tr>\n",
              "      <th>0</th>\n",
              "      <td>0#1</td>\n",
              "      <td>1</td>\n",
              "      <td>1</td>\n",
              "      <td>1</td>\n",
              "      <td>1</td>\n",
              "      <td>1</td>\n",
              "      <td>1</td>\n",
              "      <td>s</td>\n",
              "      <td>s</td>\n",
              "      <td>?</td>\n",
              "      <td>...</td>\n",
              "      <td>0.75</td>\n",
              "      <td>0.5</td>\n",
              "      <td>n</td>\n",
              "      <td>0.999953002209</td>\n",
              "      <td>0.777777777778</td>\n",
              "      <td>0.461538463831</td>\n",
              "      <td>n</td>\n",
              "      <td>1.0</td>\n",
              "      <td>0.999999996702</td>\n",
              "      <td>+1</td>\n",
              "    </tr>\n",
              "    <tr>\n",
              "      <th>1</th>\n",
              "      <td>0#2</td>\n",
              "      <td>1</td>\n",
              "      <td>0.75</td>\n",
              "      <td>0.857143</td>\n",
              "      <td>0.857143</td>\n",
              "      <td>0.894737</td>\n",
              "      <td>0.947368</td>\n",
              "      <td>s</td>\n",
              "      <td>n</td>\n",
              "      <td>?</td>\n",
              "      <td>...</td>\n",
              "      <td>0.5</td>\n",
              "      <td>0.307692319155</td>\n",
              "      <td>n</td>\n",
              "      <td>0.999982921892</td>\n",
              "      <td>0.538461538462</td>\n",
              "      <td>0.4375</td>\n",
              "      <td>n</td>\n",
              "      <td>1.0</td>\n",
              "      <td>0.999999962459</td>\n",
              "      <td>+1</td>\n",
              "    </tr>\n",
              "    <tr>\n",
              "      <th>2</th>\n",
              "      <td>0#3</td>\n",
              "      <td>1</td>\n",
              "      <td>1</td>\n",
              "      <td>1</td>\n",
              "      <td>1</td>\n",
              "      <td>1</td>\n",
              "      <td>1</td>\n",
              "      <td>s</td>\n",
              "      <td>s</td>\n",
              "      <td>?</td>\n",
              "      <td>...</td>\n",
              "      <td>0.666666666667</td>\n",
              "      <td>0.461538463831</td>\n",
              "      <td>n</td>\n",
              "      <td>0.999992600055</td>\n",
              "      <td>0.8</td>\n",
              "      <td>0.666666686535</td>\n",
              "      <td>n</td>\n",
              "      <td>1.0</td>\n",
              "      <td>0.999999999653</td>\n",
              "      <td>+1</td>\n",
              "    </tr>\n",
              "    <tr>\n",
              "      <th>3</th>\n",
              "      <td>4#5</td>\n",
              "      <td>1</td>\n",
              "      <td>0.75</td>\n",
              "      <td>0.857143</td>\n",
              "      <td>0.857143</td>\n",
              "      <td>0.842105</td>\n",
              "      <td>0.833333</td>\n",
              "      <td>s</td>\n",
              "      <td>n</td>\n",
              "      <td>1</td>\n",
              "      <td>...</td>\n",
              "      <td>0.5</td>\n",
              "      <td>0.285714298487</td>\n",
              "      <td>n</td>\n",
              "      <td>0.998604948886</td>\n",
              "      <td>0.555555555556</td>\n",
              "      <td>0.384615391493</td>\n",
              "      <td>n</td>\n",
              "      <td>0.999999947284</td>\n",
              "      <td>0.999994124065</td>\n",
              "      <td>+1</td>\n",
              "    </tr>\n",
              "    <tr>\n",
              "      <th>4</th>\n",
              "      <td>6#7</td>\n",
              "      <td>0</td>\n",
              "      <td>0</td>\n",
              "      <td>0.25</td>\n",
              "      <td>0</td>\n",
              "      <td>0.25</td>\n",
              "      <td>0</td>\n",
              "      <td>n</td>\n",
              "      <td>n</td>\n",
              "      <td>?</td>\n",
              "      <td>...</td>\n",
              "      <td>?</td>\n",
              "      <td>?</td>\n",
              "      <td>m</td>\n",
              "      <td>?</td>\n",
              "      <td>?</td>\n",
              "      <td>?</td>\n",
              "      <td>m</td>\n",
              "      <td>1.0</td>\n",
              "      <td>?</td>\n",
              "      <td>+1</td>\n",
              "    </tr>\n",
              "  </tbody>\n",
              "</table>\n",
              "<p>5 rows × 120 columns</p>\n",
              "</div>"
            ],
            "text/plain": [
              "    id clean_name_intersect_min clean_name_intersect_max  \\\n",
              "0  0#1                        1                        1   \n",
              "1  0#2                        1                     0.75   \n",
              "2  0#3                        1                        1   \n",
              "3  4#5                        1                     0.75   \n",
              "4  6#7                        0                        0   \n",
              "\n",
              "  clean_name_levenshtein_sim clean_name_trigram_sim  \\\n",
              "0                          1                      1   \n",
              "1                   0.857143               0.857143   \n",
              "2                          1                      1   \n",
              "3                   0.857143               0.857143   \n",
              "4                       0.25                      0   \n",
              "\n",
              "  clean_name_levenshtein_term clean_name_trigram_term clean_name_including  \\\n",
              "0                           1                       1                    s   \n",
              "1                    0.894737                0.947368                    s   \n",
              "2                           1                       1                    s   \n",
              "3                    0.842105                0.833333                    s   \n",
              "4                        0.25                       0                    n   \n",
              "\n",
              "  clean_name_equality city_intersect_min  ... coordinates_long_levenshtein  \\\n",
              "0                   s                  ?  ...                         0.75   \n",
              "1                   n                  ?  ...                          0.5   \n",
              "2                   s                  ?  ...               0.666666666667   \n",
              "3                   n                  1  ...                          0.5   \n",
              "4                   n                  ?  ...                            ?   \n",
              "\n",
              "  coordinates_long_trigram coordinates_long_equality coordinates_lat_diff  \\\n",
              "0                      0.5                         n       0.999953002209   \n",
              "1           0.307692319155                         n       0.999982921892   \n",
              "2           0.461538463831                         n       0.999992600055   \n",
              "3           0.285714298487                         n       0.998604948886   \n",
              "4                        ?                         m                    ?   \n",
              "\n",
              "  coordinates_lat_levenshtein coordinates_lat_trigram  \\\n",
              "0              0.777777777778          0.461538463831   \n",
              "1              0.538461538462                  0.4375   \n",
              "2                         0.8          0.666666686535   \n",
              "3              0.555555555556          0.384615391493   \n",
              "4                           ?                       ?   \n",
              "\n",
              "  coordinates_lat_equality geocode_coordinates_diff coordinates_diff label  \n",
              "0                        n                      1.0   0.999999996702    +1  \n",
              "1                        n                      1.0   0.999999962459    +1  \n",
              "2                        n                      1.0   0.999999999653    +1  \n",
              "3                        n           0.999999947284   0.999994124065    +1  \n",
              "4                        m                      1.0                ?    +1  \n",
              "\n",
              "[5 rows x 120 columns]"
            ]
          },
          "execution_count": 333,
          "metadata": {},
          "output_type": "execute_result"
        }
      ],
      "source": [
        "# Inicializando DataFrame do Nomao\n",
        "nomao_df = pd.DataFrame(data, columns=features)\n",
        "nomao_df.head(5)"
      ]
    },
    {
      "cell_type": "markdown",
      "metadata": {
        "id": "KewwBwG77OCC"
      },
      "source": [
        "## Entendendo melhor os dados do Nomao\n",
        "\n"
      ]
    },
    {
      "cell_type": "markdown",
      "metadata": {
        "id": "YI6gEqL076XM"
      },
      "source": [
        "Segundo o arquivo de informação do desafio da Nomao, é informado que:\n",
        "\n",
        "\" First 29,104 instances have been labeled with \"human prior\".\n",
        "\n",
        "Next 917 instances have been labeled using the active learning method called \"marg\".\n",
        "\n",
        "Next 964 instances refer to the active method called \"wmarg\".\n",
        "\n",
        "Next 995 instances refer to the active method called \"wmarg5\".\n",
        "\n",
        "Next 1,985 instances refer to the active method called \"rand\" (random selection).\n",
        "\n",
        "Next 163 instances refer to the active method called \"baseline\".\n",
        "\n",
        "Next 167 instances refer to the active method called \"nomao\".\n",
        "\n",
        "And last 170 instances refer to the active method called \"tsun\". \"\n"
      ]
    },
    {
      "cell_type": "markdown",
      "metadata": {},
      "source": [
        "### Quantidade de registros e colunas\n",
        "\n",
        "```python\n",
        "\n",
        "# Apenas para entender como é composto o dataframe em termos de linhas e colunas"
      ]
    },
    {
      "cell_type": "code",
      "execution_count": null,
      "metadata": {
        "colab": {
          "base_uri": "https://localhost:8080/"
        },
        "id": "-irIInWr7yST",
        "outputId": "a34223b0-0b92-45f8-ca73-e0158ce4e50e"
      },
      "outputs": [
        {
          "name": "stdout",
          "output_type": "stream",
          "text": [
            "(34466, 120)\n"
          ]
        }
      ],
      "source": [
        "print(nomao_df.shape)\n"
      ]
    },
    {
      "cell_type": "code",
      "execution_count": null,
      "metadata": {},
      "outputs": [
        {
          "name": "stdout",
          "output_type": "stream",
          "text": [
            "<class 'pandas.core.frame.DataFrame'>\n",
            "RangeIndex: 34466 entries, 0 to 34465\n",
            "Columns: 120 entries, id to label\n",
            "dtypes: object(120)\n",
            "memory usage: 31.6+ MB\n"
          ]
        }
      ],
      "source": [
        "nomao_df.info()"
      ]
    },
    {
      "cell_type": "markdown",
      "metadata": {
        "id": "k5uQ-CC_8iDd"
      },
      "source": [
        "### Análise\n",
        "```python\n",
        "# Podemos ver que o método \"info\", nos diz que existem 34466 linhas e 120 features, um arquivo bem grande e que condiz com o que foi informado pelo desafio.\n",
        "\n",
        "\n"
      ]
    },
    {
      "cell_type": "markdown",
      "metadata": {},
      "source": [
        "### Pré-processamento\n",
        "```python\n",
        "# Podemos então começar com o pré processamento de dados, verificando duplicatas, linhas com informações faltantes, inconcistência.\n",
        "\n",
        "# Vale ressaltar que no arquivo .names, é informado como é catégorizado dados incompletos, \"?\""
      ]
    },
    {
      "cell_type": "code",
      "execution_count": null,
      "metadata": {
        "colab": {
          "base_uri": "https://localhost:8080/"
        },
        "id": "lKCP3Kns7cRD",
        "outputId": "de72c961-a7b3-4ea6-eadd-8e1c0b5d9276"
      },
      "outputs": [
        {
          "data": {
            "text/plain": [
              "0"
            ]
          },
          "execution_count": 336,
          "metadata": {},
          "output_type": "execute_result"
        }
      ],
      "source": [
        "nomao_df.duplicated().sum()"
      ]
    },
    {
      "cell_type": "markdown",
      "metadata": {},
      "source": [
        "```python\n",
        "# Observamos que não existem linhas duplicadas no dataset.\n"
      ]
    },
    {
      "cell_type": "code",
      "execution_count": null,
      "metadata": {
        "colab": {
          "base_uri": "https://localhost:8080/",
          "height": 458
        },
        "id": "Clcm-2ssDt8U",
        "outputId": "1ec5ebe2-d848-401e-e84f-8d3e670c4488"
      },
      "outputs": [
        {
          "name": "stdout",
          "output_type": "stream",
          "text": [
            "                                            Dtype\n",
            "id                                         object\n",
            "clean_name_intersect_min                   object\n",
            "clean_name_intersect_max                   object\n",
            "clean_name_levenshtein_sim                 object\n",
            "clean_name_trigram_sim                     object\n",
            "clean_name_levenshtein_term                object\n",
            "clean_name_trigram_term                    object\n",
            "clean_name_including                       object\n",
            "clean_name_equality                        object\n",
            "city_intersect_min                         object\n",
            "city_intersect_max                         object\n",
            "city_levenshtein_sim                       object\n",
            "city_trigram_sim                           object\n",
            "city_levenshtein_term                      object\n",
            "city_trigram_term                          object\n",
            "city_including                             object\n",
            "city_equality                              object\n",
            "zip_intersect_min                          object\n",
            "zip_intersect_max                          object\n",
            "zip_levenshtein_sim                        object\n",
            "zip_trigram_sim                            object\n",
            "zip_levenshtein_term                       object\n",
            "zip_trigram_term                           object\n",
            "zip_including                              object\n",
            "zip_equality                               object\n",
            "street_intersect_min                       object\n",
            "street_intersect_max                       object\n",
            "street_levenshtein_sim                     object\n",
            "street_trigram_sim                         object\n",
            "street_levenshtein_term                    object\n",
            "street_trigram_term                        object\n",
            "street_including                           object\n",
            "street_equality                            object\n",
            "website_intersect_min                      object\n",
            "website_intersect_max                      object\n",
            "website_levenshtein_sim                    object\n",
            "website_trigram_sim                        object\n",
            "website_levenshtein_term                   object\n",
            "website_trigram_term                       object\n",
            "website_including                          object\n",
            "website_equality                           object\n",
            "countryname_intersect_min                  object\n",
            "countryname_intersect_max                  object\n",
            "countryname_levenshtein_sim                object\n",
            "countryname_trigram_sim                    object\n",
            "countryname_levenshtein_term               object\n",
            "countryname_trigram_term                   object\n",
            "countryname_including                      object\n",
            "countryname_equality                       object\n",
            "geocoderlocalityname_intersect_min         object\n",
            "geocoderlocalityname_intersect_max         object\n",
            "geocoderlocalityname_levenshtein_sim       object\n",
            "geocoderlocalityname_trigram_sim           object\n",
            "geocoderlocalityname_levenshtein_term      object\n",
            "geocoderlocalityname_trigram_term          object\n",
            "geocoderlocalityname_including             object\n",
            "geocoderlocalityname_equality              object\n",
            "geocoderinputaddress_intersect_min         object\n",
            "geocoderinputaddress_intersect_max         object\n",
            "geocoderinputaddress_levenshtein_sim       object\n",
            "geocoderinputaddress_trigram_sim           object\n",
            "geocoderinputaddress_levenshtein_term      object\n",
            "geocoderinputaddress_trigram_term          object\n",
            "geocoderinputaddress_including             object\n",
            "geocoderinputaddress_equality              object\n",
            "geocoderoutputaddress_intersect_min        object\n",
            "geocoderoutputaddress_intersect_max        object\n",
            "geocoderoutputaddress_levenshtein_sim      object\n",
            "geocoderoutputaddress_trigram_sim          object\n",
            "geocoderoutputaddress_levenshtein_term     object\n",
            "geocoderoutputaddress_trigram_term         object\n",
            "geocoderoutputaddress_including            object\n",
            "geocoderoutputaddress_equality             object\n",
            "geocoderpostalcodenumber_intersect_min     object\n",
            "geocoderpostalcodenumber_intersect_max     object\n",
            "geocoderpostalcodenumber_levenshtein_sim   object\n",
            "geocoderpostalcodenumber_trigram_sim       object\n",
            "geocoderpostalcodenumber_levenshtein_term  object\n",
            "geocoderpostalcodenumber_trigram_term      object\n",
            "geocoderpostalcodenumber_including         object\n",
            "geocoderpostalcodenumber_equality          object\n",
            "geocodercountrynamecode_intersect_min      object\n",
            "geocodercountrynamecode_intersect_max      object\n",
            "geocodercountrynamecode_levenshtein_sim    object\n",
            "geocodercountrynamecode_trigram_sim        object\n",
            "geocodercountrynamecode_levenshtein_term   object\n",
            "geocodercountrynamecode_trigram_term       object\n",
            "geocodercountrynamecode_including          object\n",
            "geocodercountrynamecode_equality           object\n",
            "phone_diff                                 object\n",
            "phone_levenshtein                          object\n",
            "phone_trigram                              object\n",
            "phone_equality                             object\n",
            "fax_diff                                   object\n",
            "fax_levenshtein                            object\n",
            "fax_trigram                                object\n",
            "fax_equality                               object\n",
            "street_number_diff                         object\n",
            "street_number_levenshtein                  object\n",
            "street_number_trigram                      object\n",
            "street_number_equality                     object\n",
            "geocode_coordinates_long_diff              object\n",
            "geocode_coordinates_long_levenshtein       object\n",
            "geocode_coordinates_long_trigram           object\n",
            "geocode_coordinates_long_equality          object\n",
            "geocode_coordinates_lat_diff               object\n",
            "geocode_coordinates_lat_levenshtein        object\n",
            "geocode_coordinates_lat_trigram            object\n",
            "geocode_coordinates_lat_equality           object\n",
            "coordinates_long_diff                      object\n",
            "coordinates_long_levenshtein               object\n",
            "coordinates_long_trigram                   object\n",
            "coordinates_long_equality                  object\n",
            "coordinates_lat_diff                       object\n",
            "coordinates_lat_levenshtein                object\n",
            "coordinates_lat_trigram                    object\n",
            "coordinates_lat_equality                   object\n",
            "geocode_coordinates_diff                   object\n",
            "coordinates_diff                           object\n",
            "label                                      object\n"
          ]
        }
      ],
      "source": [
        "print(nomao_df.dtypes.to_frame(name=\"Dtype\"))\n"
      ]
    },
    {
      "cell_type": "code",
      "execution_count": null,
      "metadata": {},
      "outputs": [
        {
          "name": "stdout",
          "output_type": "stream",
          "text": [
            "object    120\n",
            "Name: count, dtype: int64\n"
          ]
        }
      ],
      "source": [
        "print(nomao_df.dtypes.value_counts())\n"
      ]
    },
    {
      "cell_type": "markdown",
      "metadata": {},
      "source": [
        "### Separando a coluna de label e estudando balanceamento de classes"
      ]
    },
    {
      "cell_type": "code",
      "execution_count": null,
      "metadata": {},
      "outputs": [],
      "source": [
        "# Separando a coluna de label\n",
        "label_col = nomao_df['label']\n",
        "nomao_df = nomao_df.drop(columns=['label'])\n"
      ]
    },
    {
      "cell_type": "code",
      "execution_count": null,
      "metadata": {},
      "outputs": [
        {
          "data": {
            "image/png": "[encoded data removed]",
            "text/plain": [
              "<Figure size 800x600 with 1 Axes>"
            ]
          },
          "metadata": {},
          "output_type": "display_data"
        }
      ],
      "source": [
        "import matplotlib.pyplot as plt\n",
        "\n",
        "# Plotting the class distribution\n",
        "plt.figure(figsize=(8,6))\n",
        "label_col.value_counts().plot(kind='bar', color=['skyblue', 'salmon'])\n",
        "plt.title('-1 = Diferentes, +1 = Mesmo Lugar')\n",
        "plt.xlabel('Labels')\n",
        "plt.ylabel('Contagem')\n",
        "plt.xticks(rotation=0)\n",
        "plt.show()\n"
      ]
    },
    {
      "cell_type": "markdown",
      "metadata": {},
      "source": [
        "\n",
        "\n",
        "Agora, vamos voltar para o motivo pelo qual todas as colunas estão sendo tratadas como tipo `object`. Isso de dá devido à presença de caracteres não numéricos, como o símbolo `?`, que é utilizado para representar valores ausentes nos dados. Isso impede que o Pandas interprete essas colunas como numéricas. "
      ]
    },
    {
      "cell_type": "code",
      "execution_count": null,
      "metadata": {
        "id": "NVgPuAATRDhD"
      },
      "outputs": [],
      "source": [
        "# Não é necessário rodar, mas é interessante para ver a quantidade de NaN em cada coluna do Dataset\n",
        "pd.set_option('display.max_rows', None)"
      ]
    },
    {
      "cell_type": "code",
      "execution_count": null,
      "metadata": {
        "colab": {
          "base_uri": "https://localhost:8080/",
          "height": 1000
        },
        "id": "UjlyBHm27x4c",
        "outputId": "18a3048f-d8c4-4907-db51-772435bc9760"
      },
      "outputs": [
        {
          "data": {
            "text/plain": [
              "fax_trigram                                  33570\n",
              "fax_levenshtein                              33570\n",
              "fax_diff                                     33570\n",
              "website_levenshtein_sim                      32289\n",
              "website_intersect_max                        32289\n",
              "website_trigram_term                         32289\n",
              "website_levenshtein_term                     32289\n",
              "website_intersect_min                        32289\n",
              "website_trigram_sim                          32289\n",
              "countryname_intersect_min                    28798\n",
              "countryname_intersect_max                    28798\n",
              "countryname_levenshtein_sim                  28798\n",
              "countryname_trigram_sim                      28798\n",
              "countryname_levenshtein_term                 28798\n",
              "countryname_trigram_term                     28798\n",
              "zip_levenshtein_sim                          25111\n",
              "zip_trigram_term                             25111\n",
              "zip_levenshtein_term                         25111\n",
              "zip_trigram_sim                              25111\n",
              "zip_intersect_max                            25111\n",
              "zip_intersect_min                            25111\n",
              "street_intersect_min                         24446\n",
              "street_intersect_max                         24446\n",
              "street_levenshtein_sim                       24446\n",
              "street_trigram_sim                           24446\n",
              "street_levenshtein_term                      24446\n",
              "street_trigram_term                          24446\n",
              "city_trigram_term                            22296\n",
              "city_levenshtein_term                        22296\n",
              "city_trigram_sim                             22296\n",
              "city_levenshtein_sim                         22296\n",
              "city_intersect_max                           22296\n",
              "city_intersect_min                           22296\n",
              "phone_levenshtein                            20054\n",
              "phone_diff                                   20054\n",
              "phone_trigram                                20054\n",
              "coordinates_diff                             18966\n",
              "coordinates_long_diff                        18966\n",
              "coordinates_long_levenshtein                 18966\n",
              "coordinates_long_trigram                     18966\n",
              "coordinates_lat_diff                         18966\n",
              "coordinates_lat_levenshtein                  18966\n",
              "coordinates_lat_trigram                      18966\n",
              "street_number_levenshtein                    11986\n",
              "street_number_trigram                        11986\n",
              "street_number_diff                           11986\n",
              "geocoderpostalcodenumber_intersect_min        4570\n",
              "geocoderpostalcodenumber_trigram_term         4570\n",
              "geocoderpostalcodenumber_levenshtein_sim      4570\n",
              "geocoderpostalcodenumber_trigram_sim          4570\n",
              "geocoderpostalcodenumber_levenshtein_term     4570\n",
              "geocoderpostalcodenumber_intersect_max        4570\n",
              "geocodercountrynamecode_trigram_sim           1354\n",
              "geocodercountrynamecode_levenshtein_sim       1354\n",
              "geocodercountrynamecode_intersect_max         1354\n",
              "geocodercountrynamecode_intersect_min         1354\n",
              "geocodercountrynamecode_levenshtein_term      1354\n",
              "geocodercountrynamecode_trigram_term          1354\n",
              "geocoderlocalityname_trigram_sim               540\n",
              "geocoderlocalityname_levenshtein_term          540\n",
              "geocoderlocalityname_trigram_term              540\n",
              "geocoderlocalityname_levenshtein_sim           540\n",
              "geocoderlocalityname_intersect_min             540\n",
              "geocoderlocalityname_intersect_max             540\n",
              "geocoderinputaddress_levenshtein_sim            56\n",
              "geocoderinputaddress_intersect_max              56\n",
              "geocoderinputaddress_trigram_term               56\n",
              "geocoderinputaddress_intersect_min              56\n",
              "geocoderinputaddress_trigram_sim                56\n",
              "geocoderinputaddress_levenshtein_term           56\n",
              "geocoderoutputaddress_intersect_max             10\n",
              "geocoderoutputaddress_intersect_min             10\n",
              "geocoderoutputaddress_trigram_term              10\n",
              "geocoderoutputaddress_levenshtein_term          10\n",
              "geocoderoutputaddress_levenshtein_sim           10\n",
              "geocoderoutputaddress_trigram_sim               10\n",
              "geocode_coordinates_lat_levenshtein              7\n",
              "geocode_coordinates_diff                         7\n",
              "geocode_coordinates_long_diff                    7\n",
              "geocode_coordinates_long_levenshtein             7\n",
              "geocode_coordinates_long_trigram                 7\n",
              "geocode_coordinates_lat_diff                     7\n",
              "geocode_coordinates_lat_trigram                  7\n",
              "coordinates_lat_equality                         1\n",
              "clean_name_equality                              1\n",
              "street_number_equality                           1\n",
              "geocode_coordinates_long_equality                1\n",
              "clean_name_including                             1\n",
              "geocode_coordinates_lat_equality                 1\n",
              "clean_name_intersect_max                         1\n",
              "clean_name_trigram_term                          1\n",
              "city_equality                                    1\n",
              "clean_name_levenshtein_term                      1\n",
              "coordinates_long_equality                        1\n",
              "clean_name_trigram_sim                           1\n",
              "clean_name_levenshtein_sim                       1\n",
              "city_including                                   1\n",
              "phone_equality                                   1\n",
              "fax_equality                                     1\n",
              "geocoderlocalityname_including                   1\n",
              "geocoderoutputaddress_including                  1\n",
              "geocoderoutputaddress_equality                   1\n",
              "geocoderinputaddress_equality                    1\n",
              "geocoderinputaddress_including                   1\n",
              "clean_name_intersect_min                         1\n",
              "geocoderpostalcodenumber_including               1\n",
              "geocoderpostalcodenumber_equality                1\n",
              "geocoderlocalityname_equality                    1\n",
              "countryname_equality                             1\n",
              "zip_including                                    1\n",
              "countryname_including                            1\n",
              "geocodercountrynamecode_including                1\n",
              "geocodercountrynamecode_equality                 1\n",
              "website_equality                                 1\n",
              "website_including                                1\n",
              "street_equality                                  1\n",
              "street_including                                 1\n",
              "zip_equality                                     1\n",
              "id                                               0\n",
              "dtype: int64"
            ]
          },
          "execution_count": 342,
          "metadata": {},
          "output_type": "execute_result"
        }
      ],
      "source": [
        "nomao_df.replace(\"?\", pd.NA, inplace=True) # Irei transformar todos os valores \"?\" com o padrão de Missing value de Pandas.\n",
        "x = nomao_df.isna().sum()\n",
        "x.sort_values(ascending=False)\n",
        "# Tem muita coluna com MUITOS valores em NaN.\n"
      ]
    },
    {
      "cell_type": "code",
      "execution_count": 343,
      "metadata": {},
      "outputs": [
        {
          "name": "stdout",
          "output_type": "stream",
          "text": [
            "Quantidade de colunas numéricas com NaN: 0\n",
            "    id  clean_name_intersect_min_0  clean_name_intersect_min_0.125  \\\n",
            "0  0#1                       False                           False   \n",
            "1  0#2                       False                           False   \n",
            "2  0#3                       False                           False   \n",
            "3  4#5                       False                           False   \n",
            "4  6#7                        True                           False   \n",
            "\n",
            "   clean_name_intersect_min_0.142857  clean_name_intersect_min_0.166667  \\\n",
            "0                              False                              False   \n",
            "1                              False                              False   \n",
            "2                              False                              False   \n",
            "3                              False                              False   \n",
            "4                              False                              False   \n",
            "\n",
            "   clean_name_intersect_min_0.2  clean_name_intersect_min_0.25  \\\n",
            "0                         False                          False   \n",
            "1                         False                          False   \n",
            "2                         False                          False   \n",
            "3                         False                          False   \n",
            "4                         False                          False   \n",
            "\n",
            "   clean_name_intersect_min_0.285714  clean_name_intersect_min_0.333333  \\\n",
            "0                              False                              False   \n",
            "1                              False                              False   \n",
            "2                              False                              False   \n",
            "3                              False                              False   \n",
            "4                              False                              False   \n",
            "\n",
            "   clean_name_intersect_min_0.375  ...  coordinates_diff_0.999999999992  \\\n",
            "0                           False  ...                            False   \n",
            "1                           False  ...                            False   \n",
            "2                           False  ...                            False   \n",
            "3                           False  ...                            False   \n",
            "4                           False  ...                            False   \n",
            "\n",
            "   coordinates_diff_0.999999999993  coordinates_diff_0.999999999994  \\\n",
            "0                            False                            False   \n",
            "1                            False                            False   \n",
            "2                            False                            False   \n",
            "3                            False                            False   \n",
            "4                            False                            False   \n",
            "\n",
            "   coordinates_diff_0.999999999995  coordinates_diff_0.999999999996  \\\n",
            "0                            False                            False   \n",
            "1                            False                            False   \n",
            "2                            False                            False   \n",
            "3                            False                            False   \n",
            "4                            False                            False   \n",
            "\n",
            "   coordinates_diff_0.999999999997  coordinates_diff_0.999999999998  \\\n",
            "0                            False                            False   \n",
            "1                            False                            False   \n",
            "2                            False                            False   \n",
            "3                            False                            False   \n",
            "4                            False                            False   \n",
            "\n",
            "   coordinates_diff_0.999999999999  coordinates_diff_1.0  \\\n",
            "0                            False                 False   \n",
            "1                            False                 False   \n",
            "2                            False                 False   \n",
            "3                            False                 False   \n",
            "4                            False                 False   \n",
            "\n",
            "   coordinates_diff_7.65134937122e-05  \n",
            "0                               False  \n",
            "1                               False  \n",
            "2                               False  \n",
            "3                               False  \n",
            "4                               False  \n",
            "\n",
            "[5 rows x 90063 columns]\n"
          ]
        }
      ],
      "source": [
        "# Separar as colunas numéricas e não numéricas\n",
        "num_cols = nomao_df.select_dtypes(include=['float64', 'int64']).columns\n",
        "non_num_cols = nomao_df.select_dtypes(exclude=['float64', 'int64']).columns\n",
        "\n",
        "# Aplicar pd.to_numeric nas colunas numéricas (coerção)\n",
        "nomao_df[num_cols] = nomao_df[num_cols].apply(pd.to_numeric, errors='coerce')\n",
        "\n",
        "# Substituir NaNs pelas medianas nas colunas numéricas\n",
        "nomao_df[num_cols] = nomao_df[num_cols].fillna(nomao_df[num_cols].median())\n",
        "\n",
        "# Contar quantas colunas numéricas ainda possuem pelo menos um NaN\n",
        "num_nan_cols = (nomao_df[num_cols].isna().sum() > 0).sum()\n",
        "print(f\"Quantidade de colunas numéricas com NaN: {num_nan_cols}\")\n",
        "\n",
        "# Excluir 'id' coluna das não numéricas para evitar que ela se torne dummy\n",
        "non_num_cols_without_id = non_num_cols[non_num_cols != 'id']\n",
        "\n",
        "# Converter variáveis categóricas para dummies (exceto 'id')\n",
        "nomao_df_dummies = pd.get_dummies(nomao_df[non_num_cols_without_id])\n",
        "\n",
        "# Concatenar colunas numéricas e dummies de volta em um único DataFrame\n",
        "nomao_df_final = pd.concat([nomao_df[['id'] + list(num_cols)], nomao_df_dummies], axis=1)\n",
        "\n",
        "# Verificar o DataFrame final\n",
        "print(nomao_df_final.head())\n"
      ]
    },
    {
      "cell_type": "code",
      "execution_count": 344,
      "metadata": {},
      "outputs": [
        {
          "name": "stdout",
          "output_type": "stream",
          "text": [
            "id                                             0\n",
            "clean_name_intersect_min                       1\n",
            "clean_name_intersect_max                       1\n",
            "clean_name_levenshtein_sim                     1\n",
            "clean_name_trigram_sim                         1\n",
            "clean_name_levenshtein_term                    1\n",
            "clean_name_trigram_term                        1\n",
            "clean_name_including                           1\n",
            "clean_name_equality                            1\n",
            "city_including                                 1\n",
            "city_equality                                  1\n",
            "zip_including                                  1\n",
            "zip_equality                                   1\n",
            "street_including                               1\n",
            "street_equality                                1\n",
            "website_including                              1\n",
            "website_equality                               1\n",
            "countryname_including                          1\n",
            "countryname_equality                           1\n",
            "geocoderlocalityname_intersect_min           540\n",
            "geocoderlocalityname_intersect_max           540\n",
            "geocoderlocalityname_levenshtein_sim         540\n",
            "geocoderlocalityname_trigram_sim             540\n",
            "geocoderlocalityname_levenshtein_term        540\n",
            "geocoderlocalityname_trigram_term            540\n",
            "geocoderlocalityname_including                 1\n",
            "geocoderlocalityname_equality                  1\n",
            "geocoderinputaddress_intersect_min            56\n",
            "geocoderinputaddress_intersect_max            56\n",
            "geocoderinputaddress_levenshtein_sim          56\n",
            "geocoderinputaddress_trigram_sim              56\n",
            "geocoderinputaddress_levenshtein_term         56\n",
            "geocoderinputaddress_trigram_term             56\n",
            "geocoderinputaddress_including                 1\n",
            "geocoderinputaddress_equality                  1\n",
            "geocoderoutputaddress_intersect_min           10\n",
            "geocoderoutputaddress_intersect_max           10\n",
            "geocoderoutputaddress_levenshtein_sim         10\n",
            "geocoderoutputaddress_trigram_sim             10\n",
            "geocoderoutputaddress_levenshtein_term        10\n",
            "geocoderoutputaddress_trigram_term            10\n",
            "geocoderoutputaddress_including                1\n",
            "geocoderoutputaddress_equality                 1\n",
            "geocoderpostalcodenumber_including             1\n",
            "geocoderpostalcodenumber_equality              1\n",
            "geocodercountrynamecode_intersect_min       1354\n",
            "geocodercountrynamecode_intersect_max       1354\n",
            "geocodercountrynamecode_levenshtein_sim     1354\n",
            "geocodercountrynamecode_trigram_sim         1354\n",
            "geocodercountrynamecode_levenshtein_term    1354\n",
            "geocodercountrynamecode_trigram_term        1354\n",
            "geocodercountrynamecode_including              1\n",
            "geocodercountrynamecode_equality               1\n",
            "phone_equality                                 1\n",
            "fax_equality                                   1\n",
            "street_number_equality                         1\n",
            "geocode_coordinates_long_diff                  7\n",
            "geocode_coordinates_long_levenshtein           7\n",
            "geocode_coordinates_long_trigram               7\n",
            "geocode_coordinates_long_equality              1\n",
            "geocode_coordinates_lat_diff                   7\n",
            "geocode_coordinates_lat_levenshtein            7\n",
            "geocode_coordinates_lat_trigram                7\n",
            "geocode_coordinates_lat_equality               1\n",
            "coordinates_long_equality                      1\n",
            "coordinates_lat_equality                       1\n",
            "geocode_coordinates_diff                       7\n",
            "dtype: int64\n"
          ]
        }
      ],
      "source": [
        "# Remover colunas com mais de 50% de NaNs\n",
        "nomao_df = nomao_df.dropna(thresh=0.90*len(nomao_df), axis=1)\n",
        "\n",
        "# Verificar novamente os NaNs\n",
        "print(nomao_df.isna().sum())\n"
      ]
    },
    {
      "cell_type": "code",
      "execution_count": 345,
      "metadata": {},
      "outputs": [
        {
          "name": "stdout",
          "output_type": "stream",
          "text": [
            "clean_name_intersect_min                       1\n",
            "clean_name_intersect_max                       1\n",
            "clean_name_levenshtein_sim                     1\n",
            "clean_name_trigram_sim                         1\n",
            "clean_name_levenshtein_term                    1\n",
            "clean_name_trigram_term                        1\n",
            "clean_name_including                           1\n",
            "clean_name_equality                            1\n",
            "city_including                                 1\n",
            "city_equality                                  1\n",
            "zip_including                                  1\n",
            "zip_equality                                   1\n",
            "street_including                               1\n",
            "street_equality                                1\n",
            "website_including                              1\n",
            "website_equality                               1\n",
            "countryname_including                          1\n",
            "countryname_equality                           1\n",
            "geocoderlocalityname_intersect_min           540\n",
            "geocoderlocalityname_intersect_max           540\n",
            "geocoderlocalityname_levenshtein_sim         540\n",
            "geocoderlocalityname_trigram_sim             540\n",
            "geocoderlocalityname_levenshtein_term        540\n",
            "geocoderlocalityname_trigram_term            540\n",
            "geocoderlocalityname_including                 1\n",
            "geocoderlocalityname_equality                  1\n",
            "geocoderinputaddress_intersect_min            56\n",
            "geocoderinputaddress_intersect_max            56\n",
            "geocoderinputaddress_levenshtein_sim          56\n",
            "geocoderinputaddress_trigram_sim              56\n",
            "geocoderinputaddress_levenshtein_term         56\n",
            "geocoderinputaddress_trigram_term             56\n",
            "geocoderinputaddress_including                 1\n",
            "geocoderinputaddress_equality                  1\n",
            "geocoderoutputaddress_intersect_min           10\n",
            "geocoderoutputaddress_intersect_max           10\n",
            "geocoderoutputaddress_levenshtein_sim         10\n",
            "geocoderoutputaddress_trigram_sim             10\n",
            "geocoderoutputaddress_levenshtein_term        10\n",
            "geocoderoutputaddress_trigram_term            10\n",
            "geocoderoutputaddress_including                1\n",
            "geocoderoutputaddress_equality                 1\n",
            "geocoderpostalcodenumber_including             1\n",
            "geocoderpostalcodenumber_equality              1\n",
            "geocodercountrynamecode_intersect_min       1354\n",
            "geocodercountrynamecode_intersect_max       1354\n",
            "geocodercountrynamecode_levenshtein_sim     1354\n",
            "geocodercountrynamecode_trigram_sim         1354\n",
            "geocodercountrynamecode_levenshtein_term    1354\n",
            "geocodercountrynamecode_trigram_term        1354\n",
            "geocodercountrynamecode_including              1\n",
            "geocodercountrynamecode_equality               1\n",
            "phone_equality                                 1\n",
            "fax_equality                                   1\n",
            "street_number_equality                         1\n",
            "geocode_coordinates_long_diff                  7\n",
            "geocode_coordinates_long_levenshtein           7\n",
            "geocode_coordinates_long_trigram               7\n",
            "geocode_coordinates_long_equality              1\n",
            "geocode_coordinates_lat_diff                   7\n",
            "geocode_coordinates_lat_levenshtein            7\n",
            "geocode_coordinates_lat_trigram                7\n",
            "geocode_coordinates_lat_equality               1\n",
            "coordinates_long_equality                      1\n",
            "coordinates_lat_equality                       1\n",
            "geocode_coordinates_diff                       7\n",
            "dtype: int64\n"
          ]
        }
      ],
      "source": [
        "# Exibir as colunas com mais de 500 NaNs diretamente\n",
        "columns_with_many_nans = nomao_df.isna().sum()\n",
        "columns_with_many_nans = columns_with_many_nans[columns_with_many_nans > 0]  # Exibindo colunas com mais de 500 NaNs\n",
        "print(columns_with_many_nans)\n"
      ]
    },
    {
      "cell_type": "code",
      "execution_count": 346,
      "metadata": {},
      "outputs": [
        {
          "ename": "TypeError",
          "evalue": "could not convert string to float: 's'",
          "output_type": "error",
          "traceback": [
            "\u001b[1;31m---------------------------------------------------------------------------\u001b[0m",
            "\u001b[1;31mValueError\u001b[0m                                Traceback (most recent call last)",
            "File \u001b[1;32mc:\\Users\\iantr\\AppData\\Local\\Programs\\Python\\Python311\\Lib\\site-packages\\pandas\\core\\nanops.py:786\u001b[0m, in \u001b[0;36mnanmedian\u001b[1;34m(values, axis, skipna, mask)\u001b[0m\n\u001b[0;32m    785\u001b[0m \u001b[38;5;28;01mtry\u001b[39;00m:\n\u001b[1;32m--> 786\u001b[0m     values \u001b[38;5;241m=\u001b[39m values\u001b[38;5;241m.\u001b[39mastype(\u001b[38;5;124m\"\u001b[39m\u001b[38;5;124mf8\u001b[39m\u001b[38;5;124m\"\u001b[39m)\n\u001b[0;32m    787\u001b[0m \u001b[38;5;28;01mexcept\u001b[39;00m \u001b[38;5;167;01mValueError\u001b[39;00m \u001b[38;5;28;01mas\u001b[39;00m err:\n\u001b[0;32m    788\u001b[0m     \u001b[38;5;66;03m# e.g. \"could not convert string to float: 'a'\"\u001b[39;00m\n",
            "\u001b[1;31mValueError\u001b[0m: could not convert string to float: 's'",
            "\nThe above exception was the direct cause of the following exception:\n",
            "\u001b[1;31mTypeError\u001b[0m                                 Traceback (most recent call last)",
            "Cell \u001b[1;32mIn[346], line 5\u001b[0m\n\u001b[0;32m      2\u001b[0m columns_with_nans \u001b[38;5;241m=\u001b[39m nomao_df\u001b[38;5;241m.\u001b[39mcolumns[nomao_df\u001b[38;5;241m.\u001b[39misna()\u001b[38;5;241m.\u001b[39msum() \u001b[38;5;241m>\u001b[39m \u001b[38;5;241m0\u001b[39m]\n\u001b[0;32m      4\u001b[0m \u001b[38;5;66;03m# Substituir NaNs pela mediana nas colunas com valores ausentes\u001b[39;00m\n\u001b[1;32m----> 5\u001b[0m nomao_df[columns_with_nans] \u001b[38;5;241m=\u001b[39m nomao_df[columns_with_nans]\u001b[38;5;241m.\u001b[39mfillna(\u001b[43mnomao_df\u001b[49m\u001b[43m[\u001b[49m\u001b[43mcolumns_with_nans\u001b[49m\u001b[43m]\u001b[49m\u001b[38;5;241;43m.\u001b[39;49m\u001b[43mmedian\u001b[49m\u001b[43m(\u001b[49m\u001b[43m)\u001b[49m)\n\u001b[0;32m      7\u001b[0m \u001b[38;5;66;03m# Verificar se todos os NaNs foram substituídos\u001b[39;00m\n\u001b[0;32m      8\u001b[0m \u001b[38;5;28mprint\u001b[39m(nomao_df\u001b[38;5;241m.\u001b[39misna()\u001b[38;5;241m.\u001b[39msum())\n",
            "File \u001b[1;32mc:\\Users\\iantr\\AppData\\Local\\Programs\\Python\\Python311\\Lib\\site-packages\\pandas\\core\\generic.py:11623\u001b[0m, in \u001b[0;36mNDFrame._add_numeric_operations.<locals>.median\u001b[1;34m(self, axis, skipna, numeric_only, **kwargs)\u001b[0m\n\u001b[0;32m  11606\u001b[0m \u001b[38;5;129m@doc\u001b[39m(\n\u001b[0;32m  11607\u001b[0m     _num_doc,\n\u001b[0;32m  11608\u001b[0m     desc\u001b[38;5;241m=\u001b[39m\u001b[38;5;124m\"\u001b[39m\u001b[38;5;124mReturn the median of the values over the requested axis.\u001b[39m\u001b[38;5;124m\"\u001b[39m,\n\u001b[1;32m   (...)\u001b[0m\n\u001b[0;32m  11621\u001b[0m     \u001b[38;5;241m*\u001b[39m\u001b[38;5;241m*\u001b[39mkwargs,\n\u001b[0;32m  11622\u001b[0m ):\n\u001b[1;32m> 11623\u001b[0m     \u001b[38;5;28;01mreturn\u001b[39;00m \u001b[43mNDFrame\u001b[49m\u001b[38;5;241;43m.\u001b[39;49m\u001b[43mmedian\u001b[49m\u001b[43m(\u001b[49m\u001b[38;5;28;43mself\u001b[39;49m\u001b[43m,\u001b[49m\u001b[43m \u001b[49m\u001b[43maxis\u001b[49m\u001b[43m,\u001b[49m\u001b[43m \u001b[49m\u001b[43mskipna\u001b[49m\u001b[43m,\u001b[49m\u001b[43m \u001b[49m\u001b[43mnumeric_only\u001b[49m\u001b[43m,\u001b[49m\u001b[43m \u001b[49m\u001b[38;5;241;43m*\u001b[39;49m\u001b[38;5;241;43m*\u001b[39;49m\u001b[43mkwargs\u001b[49m\u001b[43m)\u001b[49m\n",
            "File \u001b[1;32mc:\\Users\\iantr\\AppData\\Local\\Programs\\Python\\Python311\\Lib\\site-packages\\pandas\\core\\generic.py:11212\u001b[0m, in \u001b[0;36mNDFrame.median\u001b[1;34m(self, axis, skipna, numeric_only, **kwargs)\u001b[0m\n\u001b[0;32m  11205\u001b[0m \u001b[38;5;28;01mdef\u001b[39;00m \u001b[38;5;21mmedian\u001b[39m(\n\u001b[0;32m  11206\u001b[0m     \u001b[38;5;28mself\u001b[39m,\n\u001b[0;32m  11207\u001b[0m     axis: Axis \u001b[38;5;241m|\u001b[39m \u001b[38;5;28;01mNone\u001b[39;00m \u001b[38;5;241m=\u001b[39m \u001b[38;5;241m0\u001b[39m,\n\u001b[1;32m   (...)\u001b[0m\n\u001b[0;32m  11210\u001b[0m     \u001b[38;5;241m*\u001b[39m\u001b[38;5;241m*\u001b[39mkwargs,\n\u001b[0;32m  11211\u001b[0m ) \u001b[38;5;241m-\u001b[39m\u001b[38;5;241m>\u001b[39m Series \u001b[38;5;241m|\u001b[39m \u001b[38;5;28mfloat\u001b[39m:\n\u001b[1;32m> 11212\u001b[0m     \u001b[38;5;28;01mreturn\u001b[39;00m \u001b[38;5;28;43mself\u001b[39;49m\u001b[38;5;241;43m.\u001b[39;49m\u001b[43m_stat_function\u001b[49m\u001b[43m(\u001b[49m\n\u001b[0;32m  11213\u001b[0m \u001b[43m        \u001b[49m\u001b[38;5;124;43m\"\u001b[39;49m\u001b[38;5;124;43mmedian\u001b[39;49m\u001b[38;5;124;43m\"\u001b[39;49m\u001b[43m,\u001b[49m\u001b[43m \u001b[49m\u001b[43mnanops\u001b[49m\u001b[38;5;241;43m.\u001b[39;49m\u001b[43mnanmedian\u001b[49m\u001b[43m,\u001b[49m\u001b[43m \u001b[49m\u001b[43maxis\u001b[49m\u001b[43m,\u001b[49m\u001b[43m \u001b[49m\u001b[43mskipna\u001b[49m\u001b[43m,\u001b[49m\u001b[43m \u001b[49m\u001b[43mnumeric_only\u001b[49m\u001b[43m,\u001b[49m\u001b[43m \u001b[49m\u001b[38;5;241;43m*\u001b[39;49m\u001b[38;5;241;43m*\u001b[39;49m\u001b[43mkwargs\u001b[49m\n\u001b[0;32m  11214\u001b[0m \u001b[43m    \u001b[49m\u001b[43m)\u001b[49m\n",
            "File \u001b[1;32mc:\\Users\\iantr\\AppData\\Local\\Programs\\Python\\Python311\\Lib\\site-packages\\pandas\\core\\generic.py:11158\u001b[0m, in \u001b[0;36mNDFrame._stat_function\u001b[1;34m(self, name, func, axis, skipna, numeric_only, **kwargs)\u001b[0m\n\u001b[0;32m  11154\u001b[0m     nv\u001b[38;5;241m.\u001b[39mvalidate_stat_func((), kwargs, fname\u001b[38;5;241m=\u001b[39mname)\n\u001b[0;32m  11156\u001b[0m validate_bool_kwarg(skipna, \u001b[38;5;124m\"\u001b[39m\u001b[38;5;124mskipna\u001b[39m\u001b[38;5;124m\"\u001b[39m, none_allowed\u001b[38;5;241m=\u001b[39m\u001b[38;5;28;01mFalse\u001b[39;00m)\n\u001b[1;32m> 11158\u001b[0m \u001b[38;5;28;01mreturn\u001b[39;00m \u001b[38;5;28;43mself\u001b[39;49m\u001b[38;5;241;43m.\u001b[39;49m\u001b[43m_reduce\u001b[49m\u001b[43m(\u001b[49m\n\u001b[0;32m  11159\u001b[0m \u001b[43m    \u001b[49m\u001b[43mfunc\u001b[49m\u001b[43m,\u001b[49m\u001b[43m \u001b[49m\u001b[43mname\u001b[49m\u001b[38;5;241;43m=\u001b[39;49m\u001b[43mname\u001b[49m\u001b[43m,\u001b[49m\u001b[43m \u001b[49m\u001b[43maxis\u001b[49m\u001b[38;5;241;43m=\u001b[39;49m\u001b[43maxis\u001b[49m\u001b[43m,\u001b[49m\u001b[43m \u001b[49m\u001b[43mskipna\u001b[49m\u001b[38;5;241;43m=\u001b[39;49m\u001b[43mskipna\u001b[49m\u001b[43m,\u001b[49m\u001b[43m \u001b[49m\u001b[43mnumeric_only\u001b[49m\u001b[38;5;241;43m=\u001b[39;49m\u001b[43mnumeric_only\u001b[49m\n\u001b[0;32m  11160\u001b[0m \u001b[43m\u001b[49m\u001b[43m)\u001b[49m\n",
            "File \u001b[1;32mc:\\Users\\iantr\\AppData\\Local\\Programs\\Python\\Python311\\Lib\\site-packages\\pandas\\core\\frame.py:10519\u001b[0m, in \u001b[0;36mDataFrame._reduce\u001b[1;34m(self, op, name, axis, skipna, numeric_only, filter_type, **kwds)\u001b[0m\n\u001b[0;32m  10515\u001b[0m     df \u001b[38;5;241m=\u001b[39m df\u001b[38;5;241m.\u001b[39mT\n\u001b[0;32m  10517\u001b[0m \u001b[38;5;66;03m# After possibly _get_data and transposing, we are now in the\u001b[39;00m\n\u001b[0;32m  10518\u001b[0m \u001b[38;5;66;03m#  simple case where we can use BlockManager.reduce\u001b[39;00m\n\u001b[1;32m> 10519\u001b[0m res \u001b[38;5;241m=\u001b[39m \u001b[43mdf\u001b[49m\u001b[38;5;241;43m.\u001b[39;49m\u001b[43m_mgr\u001b[49m\u001b[38;5;241;43m.\u001b[39;49m\u001b[43mreduce\u001b[49m\u001b[43m(\u001b[49m\u001b[43mblk_func\u001b[49m\u001b[43m)\u001b[49m\n\u001b[0;32m  10520\u001b[0m out \u001b[38;5;241m=\u001b[39m df\u001b[38;5;241m.\u001b[39m_constructor(res)\u001b[38;5;241m.\u001b[39miloc[\u001b[38;5;241m0\u001b[39m]\n\u001b[0;32m  10521\u001b[0m \u001b[38;5;28;01mif\u001b[39;00m out_dtype \u001b[38;5;129;01mis\u001b[39;00m \u001b[38;5;129;01mnot\u001b[39;00m \u001b[38;5;28;01mNone\u001b[39;00m:\n",
            "File \u001b[1;32mc:\\Users\\iantr\\AppData\\Local\\Programs\\Python\\Python311\\Lib\\site-packages\\pandas\\core\\internals\\managers.py:1534\u001b[0m, in \u001b[0;36mBlockManager.reduce\u001b[1;34m(self, func)\u001b[0m\n\u001b[0;32m   1532\u001b[0m res_blocks: \u001b[38;5;28mlist\u001b[39m[Block] \u001b[38;5;241m=\u001b[39m []\n\u001b[0;32m   1533\u001b[0m \u001b[38;5;28;01mfor\u001b[39;00m blk \u001b[38;5;129;01min\u001b[39;00m \u001b[38;5;28mself\u001b[39m\u001b[38;5;241m.\u001b[39mblocks:\n\u001b[1;32m-> 1534\u001b[0m     nbs \u001b[38;5;241m=\u001b[39m \u001b[43mblk\u001b[49m\u001b[38;5;241;43m.\u001b[39;49m\u001b[43mreduce\u001b[49m\u001b[43m(\u001b[49m\u001b[43mfunc\u001b[49m\u001b[43m)\u001b[49m\n\u001b[0;32m   1535\u001b[0m     res_blocks\u001b[38;5;241m.\u001b[39mextend(nbs)\n\u001b[0;32m   1537\u001b[0m index \u001b[38;5;241m=\u001b[39m Index([\u001b[38;5;28;01mNone\u001b[39;00m])  \u001b[38;5;66;03m# placeholder\u001b[39;00m\n",
            "File \u001b[1;32mc:\\Users\\iantr\\AppData\\Local\\Programs\\Python\\Python311\\Lib\\site-packages\\pandas\\core\\internals\\blocks.py:339\u001b[0m, in \u001b[0;36mBlock.reduce\u001b[1;34m(self, func)\u001b[0m\n\u001b[0;32m    333\u001b[0m \u001b[38;5;129m@final\u001b[39m\n\u001b[0;32m    334\u001b[0m \u001b[38;5;28;01mdef\u001b[39;00m \u001b[38;5;21mreduce\u001b[39m(\u001b[38;5;28mself\u001b[39m, func) \u001b[38;5;241m-\u001b[39m\u001b[38;5;241m>\u001b[39m \u001b[38;5;28mlist\u001b[39m[Block]:\n\u001b[0;32m    335\u001b[0m     \u001b[38;5;66;03m# We will apply the function and reshape the result into a single-row\u001b[39;00m\n\u001b[0;32m    336\u001b[0m     \u001b[38;5;66;03m#  Block with the same mgr_locs; squeezing will be done at a higher level\u001b[39;00m\n\u001b[0;32m    337\u001b[0m     \u001b[38;5;28;01massert\u001b[39;00m \u001b[38;5;28mself\u001b[39m\u001b[38;5;241m.\u001b[39mndim \u001b[38;5;241m==\u001b[39m \u001b[38;5;241m2\u001b[39m\n\u001b[1;32m--> 339\u001b[0m     result \u001b[38;5;241m=\u001b[39m \u001b[43mfunc\u001b[49m\u001b[43m(\u001b[49m\u001b[38;5;28;43mself\u001b[39;49m\u001b[38;5;241;43m.\u001b[39;49m\u001b[43mvalues\u001b[49m\u001b[43m)\u001b[49m\n\u001b[0;32m    341\u001b[0m     \u001b[38;5;28;01mif\u001b[39;00m \u001b[38;5;28mself\u001b[39m\u001b[38;5;241m.\u001b[39mvalues\u001b[38;5;241m.\u001b[39mndim \u001b[38;5;241m==\u001b[39m \u001b[38;5;241m1\u001b[39m:\n\u001b[0;32m    342\u001b[0m         \u001b[38;5;66;03m# TODO(EA2D): special case not needed with 2D EAs\u001b[39;00m\n\u001b[0;32m    343\u001b[0m         res_values \u001b[38;5;241m=\u001b[39m np\u001b[38;5;241m.\u001b[39marray([[result]])\n",
            "File \u001b[1;32mc:\\Users\\iantr\\AppData\\Local\\Programs\\Python\\Python311\\Lib\\site-packages\\pandas\\core\\frame.py:10482\u001b[0m, in \u001b[0;36mDataFrame._reduce.<locals>.blk_func\u001b[1;34m(values, axis)\u001b[0m\n\u001b[0;32m  10480\u001b[0m     \u001b[38;5;28;01mreturn\u001b[39;00m values\u001b[38;5;241m.\u001b[39m_reduce(name, skipna\u001b[38;5;241m=\u001b[39mskipna, \u001b[38;5;241m*\u001b[39m\u001b[38;5;241m*\u001b[39mkwds)\n\u001b[0;32m  10481\u001b[0m \u001b[38;5;28;01melse\u001b[39;00m:\n\u001b[1;32m> 10482\u001b[0m     \u001b[38;5;28;01mreturn\u001b[39;00m \u001b[43mop\u001b[49m\u001b[43m(\u001b[49m\u001b[43mvalues\u001b[49m\u001b[43m,\u001b[49m\u001b[43m \u001b[49m\u001b[43maxis\u001b[49m\u001b[38;5;241;43m=\u001b[39;49m\u001b[43maxis\u001b[49m\u001b[43m,\u001b[49m\u001b[43m \u001b[49m\u001b[43mskipna\u001b[49m\u001b[38;5;241;43m=\u001b[39;49m\u001b[43mskipna\u001b[49m\u001b[43m,\u001b[49m\u001b[43m \u001b[49m\u001b[38;5;241;43m*\u001b[39;49m\u001b[38;5;241;43m*\u001b[39;49m\u001b[43mkwds\u001b[49m\u001b[43m)\u001b[49m\n",
            "File \u001b[1;32mc:\\Users\\iantr\\AppData\\Local\\Programs\\Python\\Python311\\Lib\\site-packages\\pandas\\core\\nanops.py:158\u001b[0m, in \u001b[0;36mbottleneck_switch.__call__.<locals>.f\u001b[1;34m(values, axis, skipna, **kwds)\u001b[0m\n\u001b[0;32m    156\u001b[0m         result \u001b[38;5;241m=\u001b[39m alt(values, axis\u001b[38;5;241m=\u001b[39maxis, skipna\u001b[38;5;241m=\u001b[39mskipna, \u001b[38;5;241m*\u001b[39m\u001b[38;5;241m*\u001b[39mkwds)\n\u001b[0;32m    157\u001b[0m \u001b[38;5;28;01melse\u001b[39;00m:\n\u001b[1;32m--> 158\u001b[0m     result \u001b[38;5;241m=\u001b[39m \u001b[43malt\u001b[49m\u001b[43m(\u001b[49m\u001b[43mvalues\u001b[49m\u001b[43m,\u001b[49m\u001b[43m \u001b[49m\u001b[43maxis\u001b[49m\u001b[38;5;241;43m=\u001b[39;49m\u001b[43maxis\u001b[49m\u001b[43m,\u001b[49m\u001b[43m \u001b[49m\u001b[43mskipna\u001b[49m\u001b[38;5;241;43m=\u001b[39;49m\u001b[43mskipna\u001b[49m\u001b[43m,\u001b[49m\u001b[43m \u001b[49m\u001b[38;5;241;43m*\u001b[39;49m\u001b[38;5;241;43m*\u001b[39;49m\u001b[43mkwds\u001b[49m\u001b[43m)\u001b[49m\n\u001b[0;32m    160\u001b[0m \u001b[38;5;28;01mreturn\u001b[39;00m result\n",
            "File \u001b[1;32mc:\\Users\\iantr\\AppData\\Local\\Programs\\Python\\Python311\\Lib\\site-packages\\pandas\\core\\nanops.py:789\u001b[0m, in \u001b[0;36mnanmedian\u001b[1;34m(values, axis, skipna, mask)\u001b[0m\n\u001b[0;32m    786\u001b[0m         values \u001b[38;5;241m=\u001b[39m values\u001b[38;5;241m.\u001b[39mastype(\u001b[38;5;124m\"\u001b[39m\u001b[38;5;124mf8\u001b[39m\u001b[38;5;124m\"\u001b[39m)\n\u001b[0;32m    787\u001b[0m     \u001b[38;5;28;01mexcept\u001b[39;00m \u001b[38;5;167;01mValueError\u001b[39;00m \u001b[38;5;28;01mas\u001b[39;00m err:\n\u001b[0;32m    788\u001b[0m         \u001b[38;5;66;03m# e.g. \"could not convert string to float: 'a'\"\u001b[39;00m\n\u001b[1;32m--> 789\u001b[0m         \u001b[38;5;28;01mraise\u001b[39;00m \u001b[38;5;167;01mTypeError\u001b[39;00m(\u001b[38;5;28mstr\u001b[39m(err)) \u001b[38;5;28;01mfrom\u001b[39;00m \u001b[38;5;21;01merr\u001b[39;00m\n\u001b[0;32m    790\u001b[0m \u001b[38;5;28;01mif\u001b[39;00m mask \u001b[38;5;129;01mis\u001b[39;00m \u001b[38;5;129;01mnot\u001b[39;00m \u001b[38;5;28;01mNone\u001b[39;00m:\n\u001b[0;32m    791\u001b[0m     values[mask] \u001b[38;5;241m=\u001b[39m np\u001b[38;5;241m.\u001b[39mnan\n",
            "\u001b[1;31mTypeError\u001b[0m: could not convert string to float: 's'"
          ]
        }
      ],
      "source": [
        "# Encontrar colunas com valores NaN\n",
        "columns_with_nans = nomao_df.columns[nomao_df.isna().sum() > 0]\n",
        "\n",
        "# Substituir NaNs pela mediana nas colunas com valores ausentes\n",
        "nomao_df[columns_with_nans] = nomao_df[columns_with_nans].fillna(nomao_df[columns_with_nans].median())\n",
        "\n",
        "# Verificar se todos os NaNs foram substituídos\n",
        "print(nomao_df.isna().sum())\n"
      ]
    }
  ],
  "metadata": {
    "colab": {
      "include_colab_link": true,
      "provenance": []
    },
    "kernelspec": {
      "display_name": "Python 3",
      "name": "python3"
    },
    "language_info": {
      "codemirror_mode": {
        "name": "ipython",
        "version": 3
      },
      "file_extension": ".py",
      "mimetype": "text/x-python",
      "name": "python",
      "nbconvert_exporter": "python",
      "pygments_lexer": "ipython3",
      "version": "3.11.6"
    }
  },
  "nbformat": 4,
  "nbformat_minor": 0
}
